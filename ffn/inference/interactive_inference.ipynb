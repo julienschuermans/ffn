{
 "cells": [
  {
   "cell_type": "code",
   "execution_count": 1,
   "metadata": {},
   "outputs": [],
   "source": [
    "import os\n",
    "os.environ[\"CUDA_DEVICE_ORDER\"]=\"PCI_BUS_ID\"\n",
    " \n",
    "# The GPU id to use, usually either \"0\" or \"1\";\n",
    "os.environ[\"CUDA_VISIBLE_DEVICES\"]=\"1\""
   ]
  },
  {
   "cell_type": "code",
   "execution_count": 2,
   "metadata": {},
   "outputs": [],
   "source": [
    "from google.protobuf import text_format\n",
    "from ffn.inference import inference\n",
    "from ffn.inference import inference_pb2\n",
    "from ffn.inference import storage\n",
    "from ffn.inference import seed as sd\n",
    "\n",
    "\n",
    "import numpy as np\n",
    "import yaml\n",
    "import zipfile\n",
    "import warnings\n",
    "warnings.filterwarnings(\"ignore\")\n",
    "\n",
    "import tensorflow as tf\n",
    "tf.logging.set_verbosity(tf.logging.ERROR)"
   ]
  },
  {
   "cell_type": "code",
   "execution_count": 3,
   "metadata": {},
   "outputs": [],
   "source": [
    "current = '104-001'\n",
    "trial = '7c'\n",
    "checkpoint = '22000000'\n",
    "INTERACTIVE = True\n",
    "EXTRACT_ZIPS = True"
   ]
  },
  {
   "cell_type": "code",
   "execution_count": 4,
   "metadata": {},
   "outputs": [],
   "source": [
    "path_to_yaml = '/app/julien/retinaFFN/inference/inference_config.yaml'\n",
    "stream = open(path_to_yaml,'r')\n",
    "images = yaml.load(stream, Loader=yaml.FullLoader)\n",
    "params = images[current]\n",
    "seed = params['seed']\n",
    "corner = params['corner']\n",
    "subvol_size = params['subvol_size']"
   ]
  },
  {
   "cell_type": "code",
   "execution_count": 5,
   "metadata": {},
   "outputs": [],
   "source": [
    "config = '''image {\n",
    "  hdf5: \"/app/julien/validation/sumbul/single_image/Image''' + current + '''_01/bbox/Image''' + current + '''_01_bbox_zyx.hdf5:bbox_zyx\"\n",
    "}\n",
    "image_mean: 128\n",
    "image_stddev: 33\n",
    "checkpoint_interval: 5\n",
    "seed_policy: \"PolicyManual\"\n",
    "seed_policy_args: \"{\\\\\"points\\\\\": [''' + str(seed[0]-corner[0]) + ''',''' + str(seed[1]-corner[1]) + ''',''' + str(seed[2]-corner[2]) + ''']}\"\n",
    "model_checkpoint_path: \"/app/julien/models/trial''' + trial + '''/model.ckpt-''' + checkpoint + '''\"\n",
    "model_name: \"convstack_3d.ConvStack3DFFNModel\"\n",
    "model_args: \"{\\\\\"depth\\\\\": 5, \\\\\"fov_size\\\\\": [12, 12, 12], \\\\\"deltas\\\\\": [2, 2, 2]}\"\n",
    "segmentation_output_dir: \"/app/julien/validation/sumbul/single_image/Image''' + current + '''_01/segmentation_trial'''+ trial +'''\"\n",
    "inference_options {\n",
    "  init_activation: 0.95\n",
    "  pad_value: 0.05\n",
    "  move_threshold: 0.7\n",
    "  min_boundary_dist { x: 1 y: 1 z: 1}\n",
    "  segment_threshold: 0.5\n",
    "  min_segment_size: 1000\n",
    "  disco_seed_threshold: 0.1\n",
    "  consistency_threshold: 0.1\n",
    "}'''"
   ]
  },
  {
   "cell_type": "code",
   "execution_count": 6,
   "metadata": {},
   "outputs": [],
   "source": [
    "req = inference_pb2.InferenceRequest()\n",
    "_ = text_format.Parse(config, req)"
   ]
  },
  {
   "cell_type": "code",
   "execution_count": 7,
   "metadata": {},
   "outputs": [
    {
     "name": "stdout",
     "output_type": "stream",
     "text": [
      "\n",
      "WARNING: The TensorFlow contrib module will not be included in TensorFlow 2.0.\n",
      "For more information, please see:\n",
      "  * https://github.com/tensorflow/community/blob/master/rfcs/20180907-contrib-sunset.md\n",
      "  * https://github.com/tensorflow/addons\n",
      "If you depend on functionality not listed there, please file an issue.\n",
      "\n"
     ]
    }
   ],
   "source": [
    "runner = inference.Runner()\n",
    "runner.start(req)\n",
    "\n",
    "canvas, alignment = runner.make_canvas(corner, subvol_size)"
   ]
  },
  {
   "cell_type": "code",
   "execution_count": 8,
   "metadata": {},
   "outputs": [
    {
     "name": "stdout",
     "output_type": "stream",
     "text": [
      "nb_iters:31360\n"
     ]
    }
   ],
   "source": [
    "relative_seed = (seed[0]-corner[0],seed[1]-corner[1],seed[2]-corner[2])\n",
    "\n",
    "\n",
    "if INTERACTIVE:\n",
    "    nb_iters = canvas.segment_at(relative_seed,\n",
    "                      dynamic_image=inference.DynamicImage(),\n",
    "                      vis_update_every=100, vis_fixed_z=False)\n",
    "    print('nb_iters:' + str(nb_iters))\n",
    "else:\n",
    "    ## non interactive segmentation = much faster\n",
    "    # (also, there's something wrong with the saving of the results in interactive mode)\n",
    "    # The seed has to be specified as a point in 'seed_policy_args' (see the config above)\n",
    "    canvas.segment_all(seed_policy=runner.get_seed_policy(corner, subvol_size))    \n",
    "    seg_path = storage.segmentation_path(\n",
    "        runner.request.segmentation_output_dir, corner)\n",
    "    prob_path = storage.object_prob_path(\n",
    "        runner.request.segmentation_output_dir, corner)\n",
    "    \n",
    "    runner.save_segmentation(canvas, alignment, seg_path, prob_path)\n",
    "\n",
    "    \n",
    "    print('number of voxels with nonzero probability estimates: ' + str(len(np.nonzero(canvas.seg_prob)[0])))"
   ]
  },
  {
   "cell_type": "code",
   "execution_count": 9,
   "metadata": {},
   "outputs": [],
   "source": [
    "if EXTRACT_ZIPS:\n",
    "    resultdir =  os.path.join('/app/julien/validation/sumbul/single_image/Image' + current + '_01/segmentation_trial' + trial, str(corner[2]), str(corner[1]))\n",
    "\n",
    "    path_to_zip1 = os.path.join(resultdir, 'seg-' + str(corner[2]) + '_' + str(corner[1]) + '_' + str(corner[0]) + '.prob')\n",
    "    path_to_zip2 = os.path.join(resultdir, 'seg-' + str(corner[2]) + '_' + str(corner[1]) + '_' + str(corner[0]) + '.npz')\n",
    "\n",
    "\n",
    "    zip_ref = zipfile.ZipFile(path_to_zip1, 'r')\n",
    "    zip_ref.extractall(resultdir)\n",
    "    zip_ref.close()\n",
    "\n",
    "    zip_ref = zipfile.ZipFile(path_to_zip2, 'r')\n",
    "    zip_ref.extractall(resultdir)\n",
    "    zip_ref.close()"
   ]
  },
  {
   "cell_type": "code",
   "execution_count": null,
   "metadata": {},
   "outputs": [],
   "source": []
  }
 ],
 "metadata": {
  "kernelspec": {
   "display_name": "Python 2",
   "language": "python",
   "name": "python2"
  },
  "language_info": {
   "codemirror_mode": {
    "name": "ipython",
    "version": 2
   },
   "file_extension": ".py",
   "mimetype": "text/x-python",
   "name": "python",
   "nbconvert_exporter": "python",
   "pygments_lexer": "ipython2",
   "version": "2.7.12"
  }
 },
 "nbformat": 4,
 "nbformat_minor": 2
}
